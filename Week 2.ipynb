{
 "cells": [
  {
   "cell_type": "markdown",
   "metadata": {},
   "source": [
    "# Expressions and Variables\n",
    ">Python **Syntax** includes words that represent objects and commands, as well as punctuation that gives the words structure, hierarchy, and context. Together, the words and punctuation communicate ideas and processes; this is known as semantics. **Semantics** is the meaning conveyed by the syntax.\n",
    "\n",
    "> Coding languages are similar to spoken languages in that they have a way to classify words according to their function. For example, English sentences are composed of nouns, verbs, prepositions, etc. Here are some of the basics:\n",
    ">\n",
    "> - **Variables:** Represent data stored as strings, tuples, dictionaries, lists, and objects. an instance of a data type class, represented by a unique name within the code, that stores changeable values of the specific data type.\n",
    ">\n",
    "> - **Keywords:** Special words that are reserved for specific purposes and that can only be used for those purposes.\n",
    ">> Ex. in, not, or, for, while, return\n",
    ">\n",
    "> - **Operators:** Symbols that perform operations on objects and values.\n",
    ">> Ex. +, - , * , /, **, %, //, >, <, ==\n",
    ">\n",
    "> - **Expressions:** A combination of numbers, symbols, and variables to compute and return a result upon evaluation.\n",
    ">\n",
    "> - **Functions:** A group of related statements to perform a task and return a value.\n",
    "\n",
    "```python\n",
    "def to_celsius(x):\n",
    "   '''Convert Fahrenheit to Celsius'''\n",
    "   return (x-32) * 5/9\n",
    "to_celsius(75)\n",
    "```"
   ]
  },
  {
   "cell_type": "code",
   "execution_count": 3,
   "metadata": {},
   "outputs": [
    {
     "ename": "SyntaxError",
     "evalue": "invalid non-printable character U+00A0 (3398885976.py, line 2)",
     "output_type": "error",
     "traceback": [
      "\u001b[0;36m  Cell \u001b[0;32mIn[3], line 2\u001b[0;36m\u001b[0m\n\u001b[0;31m    '''Convert Fahrenheit to Celsius'''\u001b[0m\n\u001b[0m    ^\u001b[0m\n\u001b[0;31mSyntaxError\u001b[0m\u001b[0;31m:\u001b[0m invalid non-printable character U+00A0\n"
     ]
    }
   ],
   "source": [
    "def to_celsius(x):\n",
    "   '''Convert Fahrenheit to Celsius'''\n",
    "   return (x-32) * 5/9\n",
    "\n",
    "to_celsius(75)"
   ]
  },
  {
   "cell_type": "markdown",
   "metadata": {},
   "source": [
    "> **Conditional statements:**\n",
    ">\n",
    "> Sections of code that direct program execution based on specified conditions.\n",
    "\n",
    "```python\n",
    "number = -4\n",
    "\n",
    "if number > 0:\n",
    "   print('Number is positive.')\n",
    "elif number == 0:\n",
    "   print('Number is zero.')\n",
    "else:\n",
    "   print('Number is negative.')\n",
    "```"
   ]
  },
  {
   "cell_type": "code",
   "execution_count": null,
   "metadata": {},
   "outputs": [],
   "source": [
    "number = -4\n",
    "\n",
    "if number > 0:\n",
    "   print('Number is positive.')\n",
    "elif number == 0:\n",
    "   print('Number is zero.')\n",
    "else:\n",
    "   print('Number is negative.')"
   ]
  },
  {
   "cell_type": "markdown",
   "metadata": {},
   "source": [
    "> **Naming rules and conventions**\n",
    ">\n",
    "> - Names cannot contain spaces.\n",
    "> - Names may be a mixture of upper and lower case characters.\n",
    "> - Names can’t start with a number but may contain numbers after the first character.\n",
    "> - Variable names and function names should be written in snake_case, which means that all letters are lowercase and words are separated using an underscore. \n",
    "> - Descriptive names are better than cryptic abbreviations because they help other programmers (and you) read and interpret your code. For example, student_name is better than sn.\n",
    "\n",
    "\n",
    "\n",
    "> **PEP** stands for Python Enhancement Proposals. These are a running catalog of ways to improve or standardize Python as a language. Because Python is open source, PEP offers a framework to guide developers and build consensus around ideas.\n",
    ">\n",
    "> [PEP Documentation](https://peps.python.org/pep-0008/)"
   ]
  },
  {
   "cell_type": "markdown",
   "metadata": {},
   "source": [
    "> Tim Peters, a Python programmer, wrote this now-famous “poem” of guiding principles for coding in Python:\n",
    ">\n",
    "> **The Zen of Python**\n",
    ">\n",
    "> Beautiful is better than ugly. \\\n",
    "> Explicit is better than implicit. \\\n",
    "> Simple is better than complex. \\\n",
    "> Complex is better than complicated. \\\n",
    "> Flat is better than nested. \\\n",
    "> Sparse is better than dense. \\\n",
    "> Readability counts. \\\n",
    "> Special cases aren't special enough to break the rules. \\\n",
    "> Although practicality beats purity. \\\n",
    "> Errors should never pass silently. \\\n",
    "> Unless explicitly silenced. \\\n",
    "> In the face of ambiguity, refuse the temptation to guess. \\\n",
    "> There should be one—and preferably only one—obvious way to do it. \\\n",
    "> Although that way may not be obvious at first unless you're Dutch. \\\n",
    "> Now is better than never. \\\n",
    "> Although never is often better than *right* now. \\\n",
    "> If the implementation is hard to explain, it's a bad idea. \\\n",
    "> If the implementation is easy to explain, it may be a good idea. \\\n",
    "> Namespaces are one honking great idea -- let's do more of those!"
   ]
  },
  {
   "cell_type": "markdown",
   "metadata": {},
   "source": [
    "> Syntax and semantics are what give form and meaning to a language, including Python.  A large part of learning a new language is familiarizing yourself with its syntax and semantics. "
   ]
  },
  {
   "cell_type": "markdown",
   "metadata": {},
   "source": [
    "> **Annotating variables by type**\n",
    ">\n",
    "> Think of annotating a variable as if you were to put a label on a container—and anything in that container should hold what the label is describing.\n",
    ">\n",
    ">\n",
    "> **Example:**\n",
    ">\n",
    "> name: str = “Betty”\n",
    ">\n",
    "> The variable name is declared using a colon (:) which is annotated with the type str, indicating that the name variable should hold a string value. And look, it does! Betty—or any name for that matter—is a string, and we know it’s a string because it is in quotes. Let’s look at another example where a variable holds an integer value.\n",
    ">\n",
    "> age: int = 34\n",
    ">\n",
    "> In this example, age is the variable, and int is the type annotation that provides you and other developers a hint that the age variable should store an integer value.\n",
    ">\n",
    "> **Pro tip:** If a function expects a list of integers, you should annotate it as List[int], not just List. Being specific with your types can catch more potential bugs and misunderstandings.\n",
    "\n",
    "> **Dynamic typing**\n",
    ">\n",
    "> Many languages, such as C# or Java, require you to declare variable types, but not Python. One of the great things about Python is that the type of variable can change over time as new values are assigned to it. For example: \n",
    ">\n",
    "> a = 3 &nbsp;&nbsp;&nbsp;&nbsp;&nbsp;&nbsp;&nbsp;&nbsp;&nbsp;&nbsp;&nbsp;&nbsp;&nbsp;&nbsp;&nbsp;&nbsp;&nbsp;&nbsp;&nbsp;&nbsp;&nbsp;&nbsp;&nbsp;&nbsp;&nbsp;&nbsp;&nbsp;&nbsp;&nbsp;&nbsp;&nbsp;&nbsp;&nbsp; #a is an integer\n",
    ">\n",
    "> a = “Hello world” &nbsp;&nbsp;&nbsp;&nbsp;&nbsp;&nbsp;&nbsp;&nbsp;&nbsp;&nbsp;&nbsp;&nbsp; #a is now a string\n",
    "> \n",
    "> Dynamic typing allows programmers to write code more quickly and offers flexibility because you don’t have to explicitly declare the type of variable.\n",
    ">\n",
    "> Note: Python decides which of the built-in types the variable is and, therefore, how it should behave.\n",
    "\n",
    "> **Duck typing**\n",
    ">\n",
    "> This form of typing comes from the saying, “If it walks like a duck and quacks like a duck, it must be a duck.” Python will infer the variable type at runtime and decide which behaviors are available to the given object.\n",
    ">\n",
    ">a = “Hello world” &nbsp;&nbsp;&nbsp;&nbsp;&nbsp;&nbsp;&nbsp;&nbsp;&nbsp;&nbsp;&nbsp;&nbsp; #looks like a string\n",
    "\n",
    "> **Annotating variables with type comments**\n",
    ">\n",
    ">Another way to annotate variables is to use type comments where the interpreter will ignore the comments.\n",
    ">\n",
    "> captain = “Picard”        # type: str\n",
    ">\n",
    "> Note: This way of annotating variables might be useful for cases when you need to know what types belong to which variables but do not want the overhead of using a line interpreter (linter) or IDE on this specific variable.\n",
    "\n",
    "> **Annotating variables directly**\n",
    ">\n",
    "> Let’s use the same example above to annotate a variable directly.\n",
    ">\n",
    "> captain: str = “Picard”\n",
    ">\n",
    "> Note: You might hear annotating variables directly called the more “modern” way to annotate a variable.\n",
    ">\n",
    "> Another advantage is that you can use automated tools such as linters, or mypy, to check types to make code more resilient.\n",
    "\n",
    "> How type annotations affect runtime behavior\n",
    ">\n",
    "> Any time a library is called, or an IDE works to scan your code, more computational overhead is required.\n",
    ">\n",
    "> Pro tip: Be strategic when annotating variables by type. This can add unnecessary overhead when overused.\n",
    ">\n",
    ">Type annotation is less common with Python users in data science, as it can be burdensome to manually map data every time a new set of data comes in. On the other hand, when doing object-oriented programming or writing functions, using type annotations becomes extremely important because it helps clarify code since you are dealing with more than just the built-in types.\n",
    ">\n",
    "> Key takeaways\n",
    "> Annotating variables by type provides programmers with benefits to make the code easier to read and understand. Python provides different options on how to annotate variables, so choose how you want to annotate them. Just be cautious of over-annotating, creating unnecessary overhead to your code."
   ]
  },
  {
   "cell_type": "markdown",
   "metadata": {},
   "source": [
    "> **Implicit Conversion**\n",
    ">\n",
    "> In implicit conversion interpreter automatically converts one data type into another.\n",
    ">\n",
    "> Ex: print(7+8.5)\n",
    ">\n",
    "> In this example we are adding an integer and float. So interpreter convert integer into float first and then add the 2 float values. So the output is float."
   ]
  },
  {
   "cell_type": "code",
   "execution_count": null,
   "metadata": {},
   "outputs": [
    {
     "name": "stdout",
     "output_type": "stream",
     "text": [
      "15.5\n"
     ]
    }
   ],
   "source": [
    "print(7+8.5)"
   ]
  },
  {
   "cell_type": "markdown",
   "metadata": {},
   "source": [
    "> **Explicit Conversion.**\n",
    ">\n",
    "> In Python to convert between one data type and another, we call a function with the name of the type we're converting to.\n",
    "> \n",
    "> - str() - converts a value (often numeric) to a string data type\n",
    "> - int() - converts a value (usually a float) to an integer data type\n",
    "> - float() - converts a value (usually an integer) to a float data type\n",
    ">\n",
    "> In the example below str(area) here we are doing explicit conversion converting float into string."
   ]
  },
  {
   "cell_type": "code",
   "execution_count": null,
   "metadata": {},
   "outputs": [
    {
     "name": "stdout",
     "output_type": "stream",
     "text": [
      "<class 'int'>\n",
      "<class 'int'>\n",
      "<class 'float'>\n",
      "The area of the triangle is: 9.0\n"
     ]
    }
   ],
   "source": [
    "base = 6\n",
    "height = 3\n",
    "area = (base*height)/2\n",
    "print(type(base))\n",
    "print(type(height))\n",
    "print(type(area))\n",
    "print(\"The area of the triangle is: \" + str(object=area)) "
   ]
  }
 ],
 "metadata": {
  "kernelspec": {
   "display_name": "Python 3",
   "language": "python",
   "name": "python3"
  },
  "language_info": {
   "codemirror_mode": {
    "name": "ipython",
    "version": 3
   },
   "file_extension": ".py",
   "mimetype": "text/x-python",
   "name": "python",
   "nbconvert_exporter": "python",
   "pygments_lexer": "ipython3",
   "version": "3.10.12"
  }
 },
 "nbformat": 4,
 "nbformat_minor": 2
}
