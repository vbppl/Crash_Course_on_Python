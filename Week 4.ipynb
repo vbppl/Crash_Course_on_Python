{
 "cells": [
  {
   "cell_type": "markdown",
   "metadata": {},
   "source": [
    "# Strings, Lists and Dictionaries\n",
    "\n",
    "##### String\n",
    "\n",
    "> A string is a data type in Python that's used to represent a piece of text.\n",
    "> It's written between quotes, either double quotes or single quotes, your choice. It doesn't matter which type of quotes you use as long as they match. If we mix up double and single quotes, Python won't be too happy, and it'll return a syntax error, telling us it couldn't find the end of the string. \n",
    "> A string can be as short as zero characters, usually called an **empty string** or really long."
   ]
  },
  {
   "cell_type": "code",
   "execution_count": 38,
   "metadata": {},
   "outputs": [
    {
     "name": "stdout",
     "output_type": "stream",
     "text": [
      "Name: Sasha, Favorite color: Gold\n"
     ]
    }
   ],
   "source": [
    "name = \"Sasha\"\n",
    "color = 'Gold'\n",
    "print(\"Name: \" + name + \", Favorite color: \" + color)"
   ]
  },
  {
   "cell_type": "code",
   "execution_count": 39,
   "metadata": {},
   "outputs": [
    {
     "data": {
      "text/plain": [
       "'exampleexampleexample'"
      ]
     },
     "execution_count": 39,
     "metadata": {},
     "output_type": "execute_result"
    }
   ],
   "source": [
    "\"example\" * 3"
   ]
  },
  {
   "cell_type": "markdown",
   "metadata": {},
   "source": [
    "> **String Indexing and Slicing**\n",
    ">\n",
    "> **String indexing** allows you to access individual characters in a string. You can do this by using square brackets and the location, or index, of the character you want to access.\n",
    "> Python starts counting indexes from 0 not 1. So to access the first character in a string, you would use the index [0].\n",
    "> If you try to access an index that’s larger than the length of your string, you’ll get an IndexError. This is because you’re trying to access something that doesn't exist!\n",
    "> We can also access indexes from the end of the string going towards the start of the string by using negative values. The index [-1] would access the last character of the string, and the index [-2] would access the second-to-last character.\n",
    ">\n",
    "> **Slice** is the portion of a string that can contain more than one character, also sometimes called a substring. This allows you to access multiple characters of a string. You can do this by creating a range, using a colon as a separator between the start and end of the range, like [2:5]. \n",
    "\n"
   ]
  },
  {
   "cell_type": "code",
   "execution_count": 40,
   "metadata": {},
   "outputs": [
    {
     "name": "stdout",
     "output_type": "stream",
     "text": [
      "J\n",
      "a\n"
     ]
    }
   ],
   "source": [
    "name = \"Jaylen\"\n",
    "print(name[0])\n",
    "print(name[1])"
   ]
  },
  {
   "cell_type": "code",
   "execution_count": 41,
   "metadata": {},
   "outputs": [
    {
     "name": "stdout",
     "output_type": "stream",
     "text": [
      "s\n",
      "r\n"
     ]
    }
   ],
   "source": [
    "text = \"Random string with a lot of characters\"\n",
    "print(text[-1])\n",
    "print(text[-2])"
   ]
  },
  {
   "cell_type": "code",
   "execution_count": 42,
   "metadata": {},
   "outputs": [
    {
     "name": "stdout",
     "output_type": "stream",
     "text": [
      "ine\n",
      "Pine\n",
      "apple\n",
      "Pineapple\n"
     ]
    }
   ],
   "source": [
    "fruit = \"Pineapple\"\n",
    "print(fruit[1:4])\n",
    "print(fruit[:4])\n",
    "print(fruit[4:])\n",
    "print(fruit[:4] + fruit[4:])"
   ]
  },
  {
   "cell_type": "markdown",
   "metadata": {},
   "source": [
    "> In Python, strings are immutable. This means that they can't be modified. So if we wanted to fix a typo in a string, we can't simply modify the wrong character. We would have to create a new string with the typo corrected. We can also assign a new value to the variable holding our string.\t"
   ]
  },
  {
   "cell_type": "code",
   "execution_count": 43,
   "metadata": {},
   "outputs": [
    {
     "name": "stdout",
     "output_type": "stream",
     "text": [
      "A long string with a silly typo\n"
     ]
    }
   ],
   "source": [
    "message = \"A kong string with a silly typo\"\n",
    "new_message = message[0:2] + \"l\" + message[3:]\n",
    "print(new_message)"
   ]
  },
  {
   "cell_type": "markdown",
   "metadata": {},
   "source": [
    "> A **method** is a function associated with a specific class.\n",
    ">\n",
    "> So the index method returns the index of the given substring, inside the string. The substring that we pass, can be as long or as short as we want.\n",
    "> We know there are two s characters in **pets=\"Cats & Dogs\"** , but we only get one value when we type **print(pets.index(\"s\"))**. That's because the index method returns just the first position that matches."
   ]
  },
  {
   "cell_type": "code",
   "execution_count": 44,
   "metadata": {},
   "outputs": [
    {
     "name": "stdout",
     "output_type": "stream",
     "text": [
      "5\n",
      "0\n",
      "7\n",
      "3\n"
     ]
    }
   ],
   "source": [
    "pets=\"Cats & Dogs\"\n",
    "print(pets.index(\"&\"))\n",
    "print(pets.index(\"C\"))\n",
    "print(pets.index(\"Dog\"))\n",
    "print(pets.index(\"s\"))"
   ]
  },
  {
   "cell_type": "markdown",
   "metadata": {},
   "source": [
    "> We can use the key word **in** to check if a substring is contained in a string. We came across the keyword in, when using four loops. In that case, it was used for iteration. Here, it's a conditional that can be either true or false. It'll be true if the substring is part of the  string, and false if it's not."
   ]
  },
  {
   "cell_type": "code",
   "execution_count": 45,
   "metadata": {},
   "outputs": [
    {
     "name": "stdout",
     "output_type": "stream",
     "text": [
      "False\n",
      "True\n"
     ]
    }
   ],
   "source": [
    "pets=\"Cats & Dogs\"\n",
    "print(\"Dragons\" in pets)\n",
    "print(\"Cats\" in pets)"
   ]
  },
  {
   "cell_type": "markdown",
   "metadata": {},
   "source": [
    ">**String operations**\n",
    ">\n",
    "> **len(string)** - Returns the length of the string\n",
    "\n",
    "```Python\n",
    "print(len(\"abcde\"))         # prints 5\n",
    "```\n",
    "> **for character in string** - Iterates over each character in the string\n",
    "\n",
    "```Python\n",
    "for c in \"abcde\":  print(c)                  # prints \"a\", then \"b\", then \"c\", etc.\n",
    "```\n",
    "> **if substring in string** - Checks whether the substring is part of the string\n",
    "\n",
    "```Python\n",
    "print(\"abc\" in \"abcde\")     # prints True\n",
    "print(\"def\" in \"abcde\")     # prints False\n",
    "```\n",
    "\n",
    "> **string[i]** - Accesses the character at index i of the string, starting at zero\n",
    "\n",
    "```Python\n",
    "print(\"abcde\"[2])           # prints \"c\"\n",
    "print(\"abcde\"[-1])          # prints \"e\"\n",
    "```\n",
    "\n",
    "> **string[i:j]** - Accesses the substring starting at index i, ending at index j minus 1. If i is omitted, its value defaults to 0. If j is omitted, Python returns everything from i to the end of the string.\n",
    "\n",
    "```Python\n",
    "print(\"abcde\"[0:2])         # prints \"ab\"\n",
    "print(\"abcde\"[2:])          # prints \"cde\"\n",
    "```"
   ]
  },
  {
   "cell_type": "code",
   "execution_count": 46,
   "metadata": {},
   "outputs": [
    {
     "name": "stdout",
     "output_type": "stream",
     "text": [
      "5\n",
      ".................\n",
      "a\n",
      "b\n",
      "c\n",
      "d\n",
      "e\n",
      ".................\n",
      "True\n",
      "False\n",
      ".................\n",
      "c\n",
      "e\n",
      ".................\n",
      "ab\n",
      "cde\n"
     ]
    }
   ],
   "source": [
    "print(len(\"abcde\"))\t\t# prints 5\n",
    "print(\".................\")\n",
    "\n",
    "for c in \"abcde\":\n",
    "\tprint(c)\t\t\t\t# prints \"a\", then \"b\", then \"c\", etc.\n",
    "print(\".................\")\n",
    "\n",
    "print(\"abc\" in \"abcde\")     # prints True\n",
    "print(\"def\" in \"abcde\")     # prints False\n",
    "print(\".................\")\n",
    "\n",
    "print(\"abcde\"[2]) \t\t\t# prints \"c\"\n",
    "print(\"abcde\"[-1])\t\t\t# prints \"e\"\n",
    "print(\".................\")\n",
    "\n",
    "print(\"abcde\"[0:2])\t\t\t# prints \"ab\"\n",
    "print(\"abcde\"[2:])          # prints \"cde\""
   ]
  },
  {
   "cell_type": "markdown",
   "metadata": {},
   "source": [
    "> **String method**\n",
    "> "
   ]
  },
  {
   "cell_type": "markdown",
   "metadata": {},
   "source": [
    "> The string method **lower** will return the string with all characters changed to lowercase.\n",
    ">\n",
    "> The inverse of this is the **upper** method, which will return the string all in uppercase."
   ]
  },
  {
   "cell_type": "code",
   "execution_count": 47,
   "metadata": {},
   "outputs": [
    {
     "name": "stdout",
     "output_type": "stream",
     "text": [
      "MOUNTAINS\n",
      "mountains\n"
     ]
    }
   ],
   "source": [
    "print(\"Mountains\".upper())\n",
    "print(\"Mountains\".lower())"
   ]
  },
  {
   "cell_type": "markdown",
   "metadata": {},
   "source": [
    "> **strip** method removes surrounding whitespace from a string. Whitespace includes spaces, tabs, and newline characters.\n",
    ">\n",
    "> You can also use the methods **lstrip** and **rstrip** to remove whitespace only from the left or the right side of the string, respectively."
   ]
  },
  {
   "cell_type": "code",
   "execution_count": 48,
   "metadata": {},
   "outputs": [
    {
     "data": {
      "text/plain": [
       "'yes'"
      ]
     },
     "execution_count": 48,
     "metadata": {},
     "output_type": "execute_result"
    }
   ],
   "source": [
    "\" yes \".strip()"
   ]
  },
  {
   "cell_type": "code",
   "execution_count": 49,
   "metadata": {},
   "outputs": [
    {
     "data": {
      "text/plain": [
       "'yes '"
      ]
     },
     "execution_count": 49,
     "metadata": {},
     "output_type": "execute_result"
    }
   ],
   "source": [
    "\" yes \".lstrip()"
   ]
  },
  {
   "cell_type": "code",
   "execution_count": 50,
   "metadata": {},
   "outputs": [
    {
     "data": {
      "text/plain": [
       "' yes'"
      ]
     },
     "execution_count": 50,
     "metadata": {},
     "output_type": "execute_result"
    }
   ],
   "source": [
    "\" yes \".rstrip()"
   ]
  },
  {
   "cell_type": "markdown",
   "metadata": {},
   "source": [
    "> The method **count** can be used to return the number of times a substring appears in a string. "
   ]
  },
  {
   "cell_type": "code",
   "execution_count": 51,
   "metadata": {},
   "outputs": [
    {
     "data": {
      "text/plain": [
       "4"
      ]
     },
     "execution_count": 51,
     "metadata": {},
     "output_type": "execute_result"
    }
   ],
   "source": [
    "\"The number of times e occurs in this string is 4\".count(\"e\")"
   ]
  },
  {
   "cell_type": "markdown",
   "metadata": {},
   "source": [
    "> **endswith** method checks if a string ends with a given substring. This will return True if the substring is found at the end of the string, and False if not."
   ]
  },
  {
   "cell_type": "code",
   "execution_count": 52,
   "metadata": {},
   "outputs": [
    {
     "data": {
      "text/plain": [
       "True"
      ]
     },
     "execution_count": 52,
     "metadata": {},
     "output_type": "execute_result"
    }
   ],
   "source": [
    "\"Forest\".endswith(\"rest\")"
   ]
  },
  {
   "cell_type": "markdown",
   "metadata": {},
   "source": [
    "> The **isnumeric** method can check if a string is composed of only numbers. If the string contains only numbers, this method will return True. "
   ]
  },
  {
   "cell_type": "code",
   "execution_count": 53,
   "metadata": {},
   "outputs": [
    {
     "name": "stdout",
     "output_type": "stream",
     "text": [
      "False\n",
      "True\n"
     ]
    }
   ],
   "source": [
    "print(\"Forest\".isnumeric())\n",
    "print(\"12345\".isnumeric())"
   ]
  },
  {
   "cell_type": "code",
   "execution_count": 54,
   "metadata": {},
   "outputs": [
    {
     "data": {
      "text/plain": [
       "66666"
      ]
     },
     "execution_count": 54,
     "metadata": {},
     "output_type": "execute_result"
    }
   ],
   "source": [
    "int(\"12345\") + int(\"54321\")"
   ]
  },
  {
   "cell_type": "markdown",
   "metadata": {},
   "source": [
    "> We can use the **join** method to concatenate strings. This method is called on a string that will be used to join a list of strings. The method takes a list of strings to be joined as a parameter, and returns a new string composed of each of the strings from our list joined using the initial string."
   ]
  },
  {
   "cell_type": "code",
   "execution_count": 55,
   "metadata": {},
   "outputs": [
    {
     "name": "stdout",
     "output_type": "stream",
     "text": [
      "This is a phrase joined by spaces\n",
      "This...is...a...phrase...joined...by...triple...dots\n"
     ]
    }
   ],
   "source": [
    "print(\" \".join([\"This\", \"is\", \"a\", \"phrase\", \"joined\", \"by\", \"spaces\"]))\n",
    "print(\"...\".join([\"This\", \"is\", \"a\", \"phrase\", \"joined\", \"by\", \"triple\", \"dots\"]))"
   ]
  },
  {
   "cell_type": "markdown",
   "metadata": {},
   "source": [
    "> The inverse of the join method is the split method. This allows us to split a string into a list of strings. By default, it splits by any whitespace characters. You can also split by any other characters by passing a parameter."
   ]
  },
  {
   "cell_type": "code",
   "execution_count": 56,
   "metadata": {},
   "outputs": [
    {
     "data": {
      "text/plain": [
       "['This', 'is', 'another', 'example']"
      ]
     },
     "execution_count": 56,
     "metadata": {},
     "output_type": "execute_result"
    }
   ],
   "source": [
    "\"This is another example\".split()"
   ]
  },
  {
   "cell_type": "markdown",
   "metadata": {},
   "source": [
    ">**String methods**\n",
    ">\n",
    "> **string.lower()** - Returns a copy of the string with all lowercase characters\n",
    "\n",
    "```Python\n",
    "print(\"AaBbCcDdEe\".lower())             # prints \"aabbccddee\"\n",
    "```\n",
    "\n",
    "> **string.upper()** - Returns a copy of the string with all uppercase characters\n",
    "\n",
    "```Python\n",
    "print(\"AaBbCcDdEe\".upper())             # prints \"AABBCCDDEE\"\n",
    "```\n",
    "\n",
    "> **string.lstrip()** - Returns a copy of the string with the left-side whitespace removed\n",
    "\n",
    "```Python\n",
    "print(\"   Hello   \".lstrip())           # prints \"Hello   \"\n",
    "```\n",
    "\n",
    "> **string.rstrip()** - Returns a copy of the string with the right-side whitespace removed\n",
    "\n",
    "```Python\n",
    "print(\"   Hello   \".rstrip())           # prints \"   Hello\"\n",
    "```\n",
    "\n",
    "> **string.strip()** - Returns a copy of the string with both the left and right-side whitespace removed\n",
    "\n",
    "```Python\n",
    "print(\"   Hello   \".strip())            # prints \"Hello\"\n",
    "```\n",
    "\n",
    "> **string.count(substring)** - Returns the number of times substring is present in the string\n",
    "\n",
    "```Python\n",
    "test = \"How much wood would a woodchuck chuck\"\n",
    "print(test.count(\"wood\"))               # prints 2\n",
    "```\n",
    "\n",
    "> **string.isnumeric()** - Returns True if there are only numeric characters in the string. If not, returns False.\n",
    "\n",
    "```Python\n",
    "print(\"12345\".isnumeric())              # prints True\n",
    "print(\"-123.45\".isnumeric())            # prints False\n",
    "```\n",
    "\n",
    "> **string.isalpha()** - Returns True if there are only letters in the string. If not, returns False.\n",
    "\n",
    "```Python\n",
    "print(\"xyzzy\".isalpha())                # prints True\n",
    "```\n",
    "\n",
    "> **string.split()** - Returns a list of substrings that were separated by whitespace (whitespace can be a space, tab, or new line)\n",
    "\n",
    "```Python\n",
    "print(test.split())    # prints ['How', 'much', 'wood', 'would', 'a', 'woodchuck', 'chuck']\n",
    "```\n",
    "\n",
    "> **string.split(delimiter)** - Returns a list of substrings that were separated by whitespace or another string\n",
    "\n",
    "```Python\n",
    "test = \"How-much-wood-would-a-woodchuck-chuck\"\n",
    "print(test.split(\"-\"))                  # prints ['How', 'much', 'wood', 'would', 'a', 'woodchuck', 'chuck']\n",
    "```\n",
    "\n",
    "> **string.replace(old, new)** - Returns a new string where all occurrences of old have been replaced by new.\n",
    "\n",
    "```Python\n",
    "print(test.replace(\"wood\", \"plastic\"))  # prints \"How much plastic would a plasticchuck chuck\"\n",
    "```\n",
    "\n",
    "> **delimiter.join(list of strings)** - Returns a new string with all the strings joined by the delimiter\n",
    "\n",
    "'''Python\n",
    "print(\"-\".join(test.split()))           # prints \"How-much-wood-would-a-woodchuck-chuck\"\n",
    "```\n",
    "\n"
   ]
  },
  {
   "cell_type": "code",
   "execution_count": 57,
   "metadata": {},
   "outputs": [
    {
     "name": "stdout",
     "output_type": "stream",
     "text": [
      "aabbccddee\n",
      "........................\n",
      "AABBCCDDEE\n",
      "........................\n",
      "Hello   \n",
      "........................\n",
      "   Hello\n",
      "........................\n",
      "Hello\n",
      "........................\n",
      "2\n",
      "........................\n",
      "True\n",
      "False\n",
      "........................\n",
      "True\n",
      "........................\n",
      "['How', 'much', 'wood', 'would', 'a', 'woodchuck', 'chuck']\n",
      "........................\n",
      "['How', 'much', 'wood', 'would', 'a', 'woodchuck', 'chuck']\n",
      "........................\n",
      "How-much-plastic-would-a-plasticchuck-chuck\n",
      "........................\n",
      "How-much-wood-would-a-woodchuck-chuck\n",
      "........................\n"
     ]
    }
   ],
   "source": [
    "print(\"AaBbCcDdEe\".lower()) \t\t \t# prints \"aabbccddee\"\n",
    "print(\"........................\")\n",
    "\n",
    "\n",
    "print(\"AaBbCcDdEe\".upper())             # prints \"AABBCCDDEE\"\n",
    "print(\"........................\")\n",
    "\n",
    "print(\"   Hello   \".lstrip())  \t\t\t# prints \"Hello   \"\n",
    "print(\"........................\")\n",
    "\n",
    "print(\"   Hello   \".rstrip())           # prints \"   Hello\"\n",
    "print(\"........................\")\n",
    "\n",
    "print(\"   Hello   \".strip())            # prints \"Hello\"\n",
    "print(\"........................\")\n",
    "\n",
    "test = \"How much wood would a woodchuck chuck\"\n",
    "print(test.count(\"wood\"))  \t\t\t# prints 2\n",
    "print(\"........................\")\n",
    "\n",
    "print(\"12345\".isnumeric())              # prints True\n",
    "print(\"-123.45\".isnumeric())            # prints False\n",
    "print(\"........................\")\n",
    "\n",
    "print(\"xyzzy\".isalpha()) \t\t\t\t# prints True\n",
    "print(\"........................\")\n",
    "\n",
    "print(test.split()) \t\t\t\t\t# prints ['How', 'much', 'wood', 'would', 'a', 'woodchuck', 'chuck']\n",
    "print(\"........................\")\n",
    "\n",
    "test = \"How-much-wood-would-a-woodchuck-chuck\"\n",
    "print(test.split(\"-\")) \t\t\t\t# prints ['How', 'much', 'wood', 'would', 'a', 'woodchuck', 'chuck']\n",
    "print(\"........................\")\n",
    "\n",
    "print(test.replace(\"wood\", \"plastic\")) \t\t# prints \"How much plastic would a plasticchuck chuck\"\n",
    "print(\"........................\")\n",
    "\n",
    "test = \"How much wood would a woodchuck chuck\"\n",
    "print(\"-\".join(test.split())) \t\t# prints \"How-much-wood-would-a-woodchuck-chuck\"\n",
    "print(\"........................\")\n"
   ]
  },
  {
   "cell_type": "markdown",
   "metadata": {},
   "source": [
    "**Formatting strings**"
   ]
  },
  {
   "cell_type": "code",
   "execution_count": 58,
   "metadata": {},
   "outputs": [
    {
     "name": "stdout",
     "output_type": "stream",
     "text": [
      "Hello Manny, your lucky number is 15\n"
     ]
    }
   ],
   "source": [
    "name = \"Manny\"\n",
    "number = len(name) * 3\n",
    "print(\"Hello {}, your lucky number is {}\".format(name, number))"
   ]
  },
  {
   "cell_type": "code",
   "execution_count": 59,
   "metadata": {},
   "outputs": [
    {
     "name": "stdout",
     "output_type": "stream",
     "text": [
      "Your lucky number is 15, Manny.\n"
     ]
    }
   ],
   "source": [
    "name = \"Manny\"\n",
    "print(\"Your lucky number is {number}, {name}.\".format(name=name, number=len(name)*3))"
   ]
  },
  {
   "cell_type": "markdown",
   "metadata": {},
   "source": [
    "> **Formatting expression** There are a bunch of different expressions we can write. These expressions are needed when we want to tell Python to format our values in a way that's different from the default.\n",
    ">\n",
    "> You can use the **format** method on strings to concatenate and format strings in all kinds of powerful ways. To do this, create a string containing curly brackets, **{}**, as a placeholder, to be replaced. Then call the format method on the string using .format() and pass variables as parameters. The variables passed to the method will then be used to replace the curly bracket placeholders. This method automatically handles any conversion between data types for us (arguments are converted to strings if they weren’t already). The number of arguments you pass must exactly match the number of placeholders in the format string:\n",
    ">\n",
    "> If the curly brackets are empty, they’ll be populated with the variables passed in the order in which they're passed. However, you can put certain expressions inside the curly brackets to do even more powerful string formatting operations. You can put the name of a variable into the curly brackets, then use the names in the parameters. This allows for more easily readable code, and for more flexibility with the order of variables.\n"
   ]
  },
  {
   "cell_type": "code",
   "execution_count": 60,
   "metadata": {},
   "outputs": [
    {
     "name": "stdout",
     "output_type": "stream",
     "text": [
      "You are buying 3.0 pounds of peaches at 2.99 per pound.\n"
     ]
    }
   ],
   "source": [
    "fruit = \"peaches\"\n",
    "weight = 3.0\n",
    "per_pound = 2.99\n",
    "\n",
    "\n",
    "output = \"You are buying {} pounds of {} at {} per pound.\".format(weight, fruit, per_pound)\n",
    "print(output)"
   ]
  },
  {
   "cell_type": "markdown",
   "metadata": {},
   "source": [
    "> You can also put a formatting expression inside the curly brackets, which lets you alter the way the string is formatted. For example, the formatting expression {:.2f} means that you’d format this as a float number, with two digits after the decimal dot. The colon acts as a separator from the field name, if you had specified one."
   ]
  },
  {
   "cell_type": "code",
   "execution_count": 61,
   "metadata": {},
   "outputs": [
    {
     "name": "stdout",
     "output_type": "stream",
     "text": [
      "7.5 8.175\n",
      "Base price: $7.50. With Tax: $8.18\n"
     ]
    }
   ],
   "source": [
    "price = 7.5\n",
    "with_tax = price * 1.09\n",
    "print(price, with_tax)\n",
    "print(\"Base price: ${:.2f}. With Tax: ${:.2f}\".format(price, with_tax))\t\t# {:.2f} formatting expression"
   ]
  },
  {
   "cell_type": "markdown",
   "metadata": {},
   "source": [
    "> In the example below we are using the greater than operator to align text to the right so that the output is neatly aligned.\n",
    ">\n",
    "> In the first expression {:>3} we're saying we want the numbers to be aligned to the right for a total of three spaces.\n",
    ">\n",
    "> In the second expression {:>6.2f} we're saying we want the number to always have exactly two decimal places and we want to align the text six spaces to the right."
   ]
  },
  {
   "cell_type": "code",
   "execution_count": 62,
   "metadata": {},
   "outputs": [
    {
     "name": "stdout",
     "output_type": "stream",
     "text": [
      "test this is to test the spaces\n",
      "  0 F | -17.78 C\n",
      " 10 F | -12.22 C\n",
      " 20 F |  -6.67 C\n",
      " 30 F |  -1.11 C\n",
      " 40 F |   4.44 C\n",
      " 50 F |  10.00 C\n",
      " 60 F |  15.56 C\n",
      " 70 F |  21.11 C\n",
      " 80 F |  26.67 C\n",
      " 90 F |  32.22 C\n",
      "100 F |  37.78 C\n"
     ]
    }
   ],
   "source": [
    "def to_celsius(x):\n",
    "  return (x-32)*5/9\n",
    "print(\"test this is to test the spaces\")\n",
    "for x in range(0,101,10):\n",
    "  print(\"{:>3} F | {:>6.2f} C\".format(x, to_celsius(x)))"
   ]
  },
  {
   "cell_type": "markdown",
   "metadata": {},
   "source": [
    "> You can also consume the arguments to format() in any order you want by specifying the index inside the placeholder. As with lists and arrays, the index always starts with 0. You can even use an index more than once. Here you can see we’re using the second argument twice."
   ]
  },
  {
   "cell_type": "code",
   "execution_count": 63,
   "metadata": {},
   "outputs": [
    {
     "name": "stdout",
     "output_type": "stream",
     "text": [
      "peaches are 2.99 per pound, and you have 3.0 pounds of peaches.\n"
     ]
    }
   ],
   "source": [
    "fruit = \"peaches\"\n",
    "weight = 3.0\n",
    "per_pound = 2.99\n",
    "\n",
    "output = \"{1} are {2} per pound, and you have {0} pounds of {1}.\".format(weight, fruit, per_pound)\n",
    "print(output)"
   ]
  },
  {
   "cell_type": "markdown",
   "metadata": {},
   "source": [
    "> A third option for the placeholders is to use field names instead of indexes. This can make your code much more readable."
   ]
  },
  {
   "cell_type": "code",
   "execution_count": 64,
   "metadata": {},
   "outputs": [
    {
     "name": "stdout",
     "output_type": "stream",
     "text": [
      "peaches are 2.99 per pound, and you have 3.0 pounds of peaches.\n"
     ]
    }
   ],
   "source": [
    "fruit = \"peaches\"\n",
    "weight = 3.0\n",
    "per_pound = 2.99\n",
    "\n",
    "output = \"{fruit} are {price} per pound, and you have {weight} pounds of {fruit}.\".format(weight=weight, fruit=fruit, price=per_pound)\n",
    "print(output)"
   ]
  },
  {
   "cell_type": "markdown",
   "metadata": {},
   "source": [
    "> ** Formatting expressions**\n",
    "\n",
    "> | Expression    | Meaning      \t\t\t\t\t\t\t\t\t| Example\t   \t   |\n",
    "> | ------------- | ----------------------------------------------- | ---------------- |\n",
    "> | {:d}\t\t  |  integer value   \t\t\t\t\t\t\t\t| \"{0:.0f}\".format(10.5) → '10' \t|\n",
    "> | {:.2f}\t\t  |  floating point with that many decimals \t\t| '{:.2f}'.format(0.5) → '0.50' \t|\n",
    "> | {:.2s}\t\t  |  string with that many characters\t\t\t\t| '{:.2s}'.format('Python') → 'Py'  |\n",
    "> | {:<6s}\t\t  |  string aligned to the left that many spaces\t| '{:<6s}'.format('Py') → 'Py    '  |\n",
    "> | {:>6s}\t\t  |  string aligned to the right that many spaces\t| '{:>6s}'.format('Py') → '    Py'\t|\n",
    "> | {:^6s}\t\t  |  string centered in that many spaces\t\t\t| '{:^6s}'.format('Py') → '  Py  ' \t|\n"
   ]
  },
  {
   "cell_type": "markdown",
   "metadata": {},
   "source": [
    "> **Formatted string literals**\n",
    ">\n",
    "> The formatted string literal feature, added in Python 3.6.\n",
    "> A formatted string literal or f-string is a string that starts with 'f' or 'F' before the quotes. These strings might contain {} placeholders using expressions like the ones used for format() method strings.\n",
    ">\n",
    "> The important difference between f-strings and the format() method is that f-strings take the value of the variables from the current context, instead of taking the values from parameters."
   ]
  },
  {
   "cell_type": "code",
   "execution_count": 65,
   "metadata": {},
   "outputs": [
    {
     "name": "stdout",
     "output_type": "stream",
     "text": [
      "Hello Micah\n"
     ]
    }
   ],
   "source": [
    "name = \"Micah\"\n",
    "print(f'Hello {name}')\n",
    "\n"
   ]
  },
  {
   "cell_type": "code",
   "execution_count": 66,
   "metadata": {},
   "outputs": [
    {
     "name": "stdout",
     "output_type": "stream",
     "text": [
      "Item: Purple Cup - Amount: 5 - Price: 16.25\n"
     ]
    }
   ],
   "source": [
    "item = \"Purple Cup\"\n",
    "amount = 5\n",
    "price = amount * 3.25\n",
    "print(f'Item: {item} - Amount: {amount} - Price: {price:.2f}')\n",
    "\n"
   ]
  },
  {
   "cell_type": "markdown",
   "metadata": {},
   "source": [
    "> **% (modulo) - Old string formatting**\n",
    ">\n",
    "> The format() method was introduced in Python 2.6. Before that, the % (modulo) operator could be used to get a similar result. Although this method is no longer recommended for new code.\n",
    "\n",
    "**Syntax**: \"base string with %s placeholder\" % variable\n",
    "\n",
    "> The % (modulo) operator returns a copy of the string where the placeholders indicated by % followed by a formatting expression are replaced by the variables after the operator. \n",
    ">\n",
    "> To replace more than one value, you need to supply the values as a tuple. The formatting expression must match the value type. \n",
    "\n",
    "**Syntax**: \"base string with %d and %d placeholders\" % (value1, value2)\n",
    "\n",
    "> Variables can also be replaced by name using a dictionary syntax.\n",
    "\n",
    "**Syntax**: print(\"%(var1)d %(var2)d\" % {\"var1\":value1, \"var2\":value2})\n",
    "\n",
    "> The formatting expressions are mostly the same as those of the format() method. \n",
    "\n",
    "**Syntax**: \"Item: %s - Amount: %d - Price: %.2f\" % (item, amount, price)"
   ]
  }
 ],
 "metadata": {
  "kernelspec": {
   "display_name": "Python 3",
   "language": "python",
   "name": "python3"
  },
  "language_info": {
   "codemirror_mode": {
    "name": "ipython",
    "version": 3
   },
   "file_extension": ".py",
   "mimetype": "text/x-python",
   "name": "python",
   "nbconvert_exporter": "python",
   "pygments_lexer": "ipython3",
   "version": "3.10.12"
  }
 },
 "nbformat": 4,
 "nbformat_minor": 2
}
